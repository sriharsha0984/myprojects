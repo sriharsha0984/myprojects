{
 "cells": [
  {
   "cell_type": "code",
   "execution_count": 81,
   "id": "a5d468ad",
   "metadata": {},
   "outputs": [
    {
     "name": "stdout",
     "output_type": "stream",
     "text": [
      "enter height(158-170)159\n",
      "enter weight(58-69)60\n"
     ]
    },
    {
     "data": {
      "text/plain": [
       "array(['S'], dtype=object)"
      ]
     },
     "execution_count": 81,
     "metadata": {},
     "output_type": "execute_result"
    }
   ],
   "source": [
    "import pandas as pd\n",
    "import numpy as np\n",
    "import matplotlib.pyplot as plt\n",
    "%matplotlib inline\n",
    "Tshirt = pd.read_csv(\"dataset.csv\")\n",
    "Tshirt\n",
    "X = Tshirt.iloc[:, 0:2].values\n",
    "y = Tshirt.iloc[:, 2].values\n",
    "from sklearn.model_selection import train_test_split\n",
    "X_train, X_test, y_train, y_test = train_test_split(X, y, test_size=0.05)\n",
    "#X_test\n",
    "from sklearn.linear_model import LogisticRegression\n",
    "model=LogisticRegression()\n",
    "model.fit(X_train,y_train)\n",
    "model.predict(X_test)\n",
    "model.score(X_test,y_test)\n",
    "type(X_test)\n",
    "a=int(input(\"enter height(158-170)\"))\n",
    "b=int(input(\"enter weight(58-69)\"))\n",
    "x=np.array([[a, b]])\n",
    "#type(x)\n",
    "#x\n",
    "model.predict(x)"
   ]
  },
  {
   "cell_type": "code",
   "execution_count": null,
   "id": "9bc74b37",
   "metadata": {},
   "outputs": [],
   "source": []
  }
 ],
 "metadata": {
  "kernelspec": {
   "display_name": "Python 3",
   "language": "python",
   "name": "python3"
  },
  "language_info": {
   "codemirror_mode": {
    "name": "ipython",
    "version": 3
   },
   "file_extension": ".py",
   "mimetype": "text/x-python",
   "name": "python",
   "nbconvert_exporter": "python",
   "pygments_lexer": "ipython3",
   "version": "3.8.9"
  }
 },
 "nbformat": 4,
 "nbformat_minor": 5
}
